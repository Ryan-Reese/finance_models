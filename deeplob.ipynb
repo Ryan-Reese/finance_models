{
 "cells": [
  {
   "cell_type": "code",
   "execution_count": 1,
   "id": "d07e228f-a09c-4c9b-972b-c7d8d1d7c53f",
   "metadata": {},
   "outputs": [
    {
     "name": "stderr",
     "output_type": "stream",
     "text": [
      "/home/rmrr/career/finance_models/src/financemodels/data/loaders.py:46: SyntaxWarning: invalid escape sequence '\\s'\n",
      "  temp = pd.read_csv(fstream, sep=\"\\s+\", header=None)\n"
     ]
    }
   ],
   "source": [
    "from torch.utils.data import DataLoader\n",
    "from financemodels.data.loaders import DeepLOBDataset"
   ]
  },
  {
   "cell_type": "code",
   "execution_count": null,
   "id": "8f3521a2-0d14-47fc-a944-71564182957e",
   "metadata": {},
   "outputs": [
    {
     "name": "stdout",
     "output_type": "stream",
     "text": [
      "data/fi-2010/Train_Dst_NoAuction_DecPre_CF_7.txt\n"
     ]
    }
   ],
   "source": [
    "dataset_train = DeepLOBDataset(\"train\")\n",
    "dataset_val = DeepLOBDataset(\"val\")\n",
    "dataset_test = DeepLOBDataset(\"test\")"
   ]
  },
  {
   "cell_type": "code",
   "execution_count": null,
   "id": "69e3955b-97b8-4e31-8145-d4d1fee71c8d",
   "metadata": {},
   "outputs": [],
   "source": [
    "dataloader_train = DataLoader(dataset=dataset_train, batch"
   ]
  }
 ],
 "metadata": {
  "kernelspec": {
   "display_name": "Python 3 (ipykernel)",
   "language": "python",
   "name": "python3"
  },
  "language_info": {
   "codemirror_mode": {
    "name": "ipython",
    "version": 3
   },
   "file_extension": ".py",
   "mimetype": "text/x-python",
   "name": "python",
   "nbconvert_exporter": "python",
   "pygments_lexer": "ipython3",
   "version": "3.12.9"
  }
 },
 "nbformat": 4,
 "nbformat_minor": 5
}
