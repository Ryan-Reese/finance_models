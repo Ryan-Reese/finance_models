{
 "cells": [
  {
   "cell_type": "code",
   "execution_count": 1,
   "id": "d07e228f-a09c-4c9b-972b-c7d8d1d7c53f",
   "metadata": {},
   "outputs": [
    {
     "name": "stderr",
     "output_type": "stream",
     "text": [
      "/home/rmrr/career/finance_models/src/financemodels/data/loaders.py:46: SyntaxWarning: invalid escape sequence '\\s'\n",
      "  temp = pd.read_csv(fstream, sep=\"\\s+\", header=None)\n"
     ]
    }
   ],
   "source": [
    "import torch\n",
    "from torch.utils.data import DataLoader\n",
    "from financemodels.data.loaders import DeepLOBDataset"
   ]
  },
  {
   "cell_type": "code",
   "execution_count": null,
   "id": "8f3521a2-0d14-47fc-a944-71564182957e",
   "metadata": {},
   "outputs": [
    {
     "name": "stdout",
     "output_type": "stream",
     "text": [
      "data/fi-2010/Train_Dst_NoAuction_DecPre_CF_7.txt\n"
     ]
    }
   ],
   "source": [
    "dataset_train = DeepLOBDataset(\"train\")\n",
    "dataset_val = DeepLOBDataset(\"val\")\n",
    "dataset_test = DeepLOBDataset(\"test\")"
   ]
  },
  {
   "cell_type": "code",
   "execution_count": null,
   "id": "69e3955b-97b8-4e31-8145-d4d1fee71c8d",
   "metadata": {},
   "outputs": [],
   "source": [
    "BATCH_SIZE = 64\n",
    "RANDOM_SEED = 42\n",
    "DEVICE = torch.device(\"cuda:0\" if torch.cuda.is_available() else \"cpu\")\n",
    "\n",
    "torch.manual_seed(RANDOM_SEED)\n",
    "\n",
    "train_loader = DataLoader(dataset=dataset_train, batch_size=BATCH_SIZE, shuffle=True)\n",
    "val_loader = DataLoader(dataset=dataset_val, batch_size=BATCH_SIZE, shuffle=False)\n",
    "test_loader = DataLoader(dataset=dataset_test, batch_size=BATCH_SIZE, shuffle=False)\n",
    "\n",
    "print(dataset_train.x.shape, dataset_train.y.shape)"
   ]
  },
  {
   "cell_type": "code",
   "execution_count": null,
   "id": "ba56a636-2092-4720-93fd-2a33e3d729d4",
   "metadata": {},
   "outputs": [],
   "source": [
    "tmp_loader = DataLoader(dataset=dataset_train, batch_size=1, shuffle=True)\n",
    "\n",
    "for x, y in tmp_loader:\n",
    "    print(x)\n",
    "    print(y)\n",
    "    print(x.shape, y.shape)\n",
    "    break"
   ]
  }
 ],
 "metadata": {
  "kernelspec": {
   "display_name": "Python 3 (ipykernel)",
   "language": "python",
   "name": "python3"
  },
  "language_info": {
   "codemirror_mode": {
    "name": "ipython",
    "version": 3
   },
   "file_extension": ".py",
   "mimetype": "text/x-python",
   "name": "python",
   "nbconvert_exporter": "python",
   "pygments_lexer": "ipython3",
   "version": "3.12.9"
  }
 },
 "nbformat": 4,
 "nbformat_minor": 5
}
